{
 "cells": [
  {
   "cell_type": "code",
   "execution_count": 4,
   "metadata": {},
   "outputs": [],
   "source": [
    "import pickle\n",
    "import numpy as np\n",
    "import multiprocessing\n",
    "import numpy as np\n",
    "import tqdm\n",
    "import os\n",
    "from pyts.approximation import PAA\n",
    "from pyts.image import GADF, MTF, RecurrencePlots, GASF\n",
    "from sklearn.preprocessing import MinMaxScaler\n",
    "import time\n",
    "import gc\n",
    "import os\n",
    "import csv\n",
    "import warnings\n",
    "import shutil\n",
    "from functools import partial\n",
    "\n",
    "warnings.simplefilter(action='ignore', category=FutureWarning)\n",
    "\n",
    "Xd = pickle.load(open(\"RML2016.10a_dict.pkl\",'rb'), encoding='latin1')\n",
    "snrs,mods = map(lambda j: sorted(list(set(map(lambda x: x[j], Xd.keys())))), [1,0])\n",
    "X = []  \n",
    "lbl = []\n",
    "for mod in mods:\n",
    "    for snr in snrs:\n",
    "        X.append(Xd[(mod,snr)])\n",
    "        for i in range(Xd[(mod,snr)].shape[0]): lbl.append((mod,snr))\n",
    "X = np.vstack(X)\n",
    "# plt.ioff()\n",
    "path = os.path.join(os.getcwd())\n",
    "signals = X\n",
    "\n",
    "dict_R = []\n",
    "dict_G = []\n",
    "dict_B = []\n"
   ]
  },
  {
   "cell_type": "code",
   "execution_count": 26,
   "metadata": {},
   "outputs": [
    {
     "name": "stderr",
     "output_type": "stream",
     "text": [
      "100%|██████████| 20000/20000 [00:52<00:00, 382.81it/s]\n"
     ]
    }
   ],
   "source": [
    "def runnerr(j):\n",
    "    SNR = lbl[j][1]\n",
    "    array = X[j]\n",
    "    IMG_SIZE = 128\n",
    "    encoder1 = GASF(IMG_SIZE)\n",
    "    encoder2 = MTF(IMG_SIZE, n_bins=IMG_SIZE//10, quantiles='gaussian')\n",
    "    encoder3 = GADF(IMG_SIZE)\n",
    "    Amp = np.sqrt(np.add(np.square(X[j][0]), np.square([X[j][1]])))    \n",
    "    r = np.squeeze(encoder1.fit_transform(array)) \n",
    "    g = np.squeeze(encoder2.fit_transform(array)) \n",
    "    b = np.squeeze(encoder3.fit_transform(Amp)) \n",
    "    # assert(r.shape==b.shape==g.shape)\n",
    "    scaler = MinMaxScaler(feature_range=(0, 1))\n",
    "    shape = r.shape\n",
    "    r = scaler.fit_transform(r.reshape(-1, 1)).reshape(shape)[1, :] #Q\n",
    "    g = scaler.fit_transform(g.reshape(-1, 1)).reshape(shape)[0, :] #I\n",
    "    b = scaler.fit_transform(b) #Amplitude\n",
    "        \n",
    "    if SNR not in dict_R:\n",
    "        dict_B[SNR] =[b]\n",
    "        dict_G[SNR] =[g[0]]\n",
    "        dict_R[SNR] =[r[1]]\n",
    "        return\n",
    "    dict_B[SNR].append(b)\n",
    "    dict_G[SNR].append(g[0])\n",
    "    dict_R[SNR].append(r[1])\n",
    "\n",
    "for i in tqdm.tqdm(range(20000)):\n",
    "    runnerr(i)\n"
   ]
  },
  {
   "cell_type": "code",
   "execution_count": 29,
   "metadata": {},
   "outputs": [
    {
     "name": "stdout",
     "output_type": "stream",
     "text": [
      "dict_keys([-20, -18, -16, -14, -12, -10, -8, -6, -4, -2, 0, 2, 4, 6, 8, 10, 12, 14, 16, 18])\n",
      "dict_keys([-20, -18, -16, -14, -12, -10, -8, -6, -4, -2, 0, 2, 4, 6, 8, 10, 12, 14, 16, 18])\n",
      "dict_keys([-20, -18, -16, -14, -12, -10, -8, -6, -4, -2, 0, 2, 4, 6, 8, 10, 12, 14, 16, 18])\n"
     ]
    }
   ],
   "source": [
    "print(dict_R.keys())\n",
    "print(dict_G.keys())\n",
    "print(dict_B.keys())"
   ]
  },
  {
   "cell_type": "code",
   "execution_count": 30,
   "metadata": {},
   "outputs": [],
   "source": [
    "f = open(\"results.csv\", \"w\")\n",
    "writer = csv.DictWriter(f, fieldnames=['SNRs','Red-Green', 'Blue-Green', 'Red-Blue'])\n",
    "writer.writeheader()\n",
    "f.close()"
   ]
  },
  {
   "cell_type": "code",
   "execution_count": 32,
   "metadata": {},
   "outputs": [],
   "source": [
    "with open('results.csv', 'a+', newline='') as f:\n",
    "    f = csv.writer(f)\n",
    "    for n in range(-20, 20, 2):\n",
    "        lst = [n]\n",
    "        rg = ((np.mean(dict_R[n])-np.mean(dict_G[n]))**2)/((np.var(dict_R[n]))**2 - (np.var(dict_G[n])**2))\n",
    "        bg = ((np.mean(dict_B[n])-np.mean(dict_G[n]))**2)/((np.var(dict_B[n]))**2 - (np.var(dict_G[n])**2))\n",
    "        rb = ((np.mean(dict_R[n])-np.mean(dict_B[n]))**2)/((np.var(dict_R[n]))**2 - (np.var(dict_B[n])**2))\n",
    "        lst.append(rg)\n",
    "        lst.append(bg)\n",
    "        lst.append(rb)\n",
    "        f.writerow(lst)"
   ]
  }
 ],
 "metadata": {
  "kernelspec": {
   "display_name": "Python [conda env:fastai] *",
   "language": "python",
   "name": "conda-env-fastai-py"
  },
  "language_info": {
   "codemirror_mode": {
    "name": "ipython",
    "version": 3
   },
   "file_extension": ".py",
   "mimetype": "text/x-python",
   "name": "python",
   "nbconvert_exporter": "python",
   "pygments_lexer": "ipython3",
   "version": "3.6.10"
  }
 },
 "nbformat": 4,
 "nbformat_minor": 4
}
