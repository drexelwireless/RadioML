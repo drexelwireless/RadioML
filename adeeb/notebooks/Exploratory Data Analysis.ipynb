{
 "cells": [
  {
   "cell_type": "code",
   "execution_count": 1,
   "metadata": {},
   "outputs": [],
   "source": [
    "import pickle\n",
    "import os\n",
    "import numpy as np\n",
    "Xd = pickle.load(open(\"RML2016.10a_dict.pkl\",'rb'), encoding='latin1')\n",
    "snrs,mods = map(lambda j: sorted(list(set(map(lambda x: x[j], Xd.keys())))), [1,0])\n",
    "X = []  \n",
    "lbl = []\n",
    "for mod in mods:\n",
    "    for snr in snrs:\n",
    "        X.append(Xd[(mod,snr)])\n",
    "        for i in range(Xd[(mod,snr)].shape[0]):  lbl.append((mod,snr))\n",
    "X = np.vstack(X)\n",
    "path = os.path.join(os.getcwd())\n",
    "signals = X\n",
    "\n"
   ]
  },
  {
   "cell_type": "code",
   "execution_count": 2,
   "metadata": {},
   "outputs": [
    {
     "data": {
      "text/plain": [
       "(2, 128)"
      ]
     },
     "execution_count": 2,
     "metadata": {},
     "output_type": "execute_result"
    }
   ],
   "source": [
    "X[5]"
   ]
  },
  {
   "cell_type": "code",
   "execution_count": 51,
   "metadata": {},
   "outputs": [],
   "source": [
    "import numpy as np\n",
    "import matplotlib.pyplot as plt\n",
    "from pyts.image import GASF, GADF, MTF\n",
    "from pyts.approximation import PAA\n",
    "from sklearn.preprocessing import MinMaxScaler"
   ]
  },
  {
   "cell_type": "code",
   "execution_count": 60,
   "metadata": {},
   "outputs": [
    {
     "name": "stdout",
     "output_type": "stream",
     "text": [
      "(128, 128)\n",
      "(128, 128, 3)\n"
     ]
    }
   ],
   "source": [
    "IMG_SIZE = 128\n",
    "encoder1 = GASF(IMG_SIZE)\n",
    "## This is just for setting up the GASF and making it 128 image size long\n",
    "# # encoder1= RecurrencePlots()\n",
    "encoder2 = MTF(IMG_SIZE, n_bins=IMG_SIZE//10, quantiles='gaussian')\n",
    "array = X[5]\n",
    "\n",
    "# # encoder2 = RecurrencePlots()\n",
    "# encoder3 = GADF(IMG_SIZE)\n",
    "\n",
    "r = np.squeeze(encoder1.fit_transform(array))\n",
    "shape = r.shape\n",
    "\n",
    "\n",
    "# assert(r.shape==b.shape==g.shape)\n",
    "scaler = MinMaxScaler(feature_range=(0, 1))\n",
    "# shape = r.shape\n",
    "r = scaler.fit_transform(r.reshape(-1, 1)).reshape(shape)[1, :]\n",
    "print(r.shape)\n",
    "# g = scaler.fit_transform(g.reshape(-1, 1)).reshape(shape)[0, :]\n",
    "# b = scaler.fit_transform(b.reshape(-1, 1)).reshape(shape)[0, :]\n",
    "rgbArray = np.zeros((IMG_SIZE, IMG_SIZE, 3), 'uint8')\n",
    "print(rgbArray.shape)\n",
    "# rgbArray[..., 0] = r * 256\n",
    "# rgbArray[..., 1] = g * 256\n",
    "# rgbArray[..., 2] = b * 256"
   ]
  },
  {
   "cell_type": "code",
   "execution_count": null,
   "metadata": {},
   "outputs": [],
   "source": []
  },
  {
   "cell_type": "code",
   "execution_count": 22,
   "metadata": {},
   "outputs": [
    {
     "data": {
      "text/plain": [
       "(2, 128, 128)"
      ]
     },
     "execution_count": 22,
     "metadata": {},
     "output_type": "execute_result"
    }
   ],
   "source": [
    "a.shape"
   ]
  },
  {
   "cell_type": "code",
   "execution_count": 23,
   "metadata": {},
   "outputs": [
    {
     "data": {
      "text/plain": [
       "array([[[-0.17057359, -0.8486166 , -0.42974648, ..., -0.72493345,\n",
       "         -0.43801048, -0.73887074],\n",
       "        [-0.8486166 , -0.959796  , -0.9597652 , ..., -0.99663216,\n",
       "         -0.9623005 , -0.9947464 ],\n",
       "        [-0.42974648, -0.9597652 , -0.6571355 , ..., -0.8837135 ,\n",
       "         -0.6640217 , -0.8931015 ],\n",
       "        ...,\n",
       "        [-0.72493345, -0.99663216, -0.8837135 , ..., -0.9927688 ,\n",
       "         -0.8879692 , -0.9950164 ],\n",
       "        [-0.43801048, -0.9623005 , -0.6640217 , ..., -0.8879692 ,\n",
       "         -0.67085195, -0.89719015],\n",
       "        [-0.73887074, -0.9947464 , -0.8931015 , ..., -0.9950164 ,\n",
       "         -0.89719015, -0.9968477 ]],\n",
       "\n",
       "       [[ 1.        ,  1.        ,  1.        , ...,  1.        ,\n",
       "          1.        ,  1.        ],\n",
       "        [ 1.        ,  1.        ,  1.        , ...,  1.        ,\n",
       "          1.        ,  1.        ],\n",
       "        [ 1.        ,  1.        ,  1.        , ...,  1.        ,\n",
       "          1.        ,  1.        ],\n",
       "        ...,\n",
       "        [ 1.        ,  1.        ,  1.        , ...,  1.        ,\n",
       "          1.        ,  1.        ],\n",
       "        [ 1.        ,  1.        ,  1.        , ...,  1.        ,\n",
       "          1.        ,  1.        ],\n",
       "        [ 1.        ,  1.        ,  1.        , ...,  1.        ,\n",
       "          1.        ,  1.        ]]], dtype=float32)"
      ]
     },
     "execution_count": 23,
     "metadata": {},
     "output_type": "execute_result"
    }
   ],
   "source": [
    "a"
   ]
  }
 ],
 "metadata": {
  "kernelspec": {
   "display_name": "fastai",
   "language": "python",
   "name": "fastai_v1"
  },
  "language_info": {
   "codemirror_mode": {
    "name": "ipython",
    "version": 3
   },
   "file_extension": ".py",
   "mimetype": "text/x-python",
   "name": "python",
   "nbconvert_exporter": "python",
   "pygments_lexer": "ipython3",
   "version": "3.6.10"
  }
 },
 "nbformat": 4,
 "nbformat_minor": 4
}
