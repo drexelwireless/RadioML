{
 "metadata": {
  "language_info": {
   "codemirror_mode": {
    "name": "ipython",
    "version": 3
   },
   "file_extension": ".py",
   "mimetype": "text/x-python",
   "name": "python",
   "nbconvert_exporter": "python",
   "pygments_lexer": "ipython3",
   "version": "3.8.5-final"
  },
  "orig_nbformat": 2,
  "kernelspec": {
   "name": "Python 3.8.5 64-bit ('venv')",
   "display_name": "Python 3.8.5 64-bit ('venv')",
   "metadata": {
    "interpreter": {
     "hash": "1ced818313e1bbfa6e7e616ac58b8b2a5e279445dc4af68384a0402dc8d78ace"
    }
   }
  }
 },
 "nbformat": 4,
 "nbformat_minor": 2,
 "cells": [
  {
   "cell_type": "code",
   "execution_count": 1,
   "metadata": {},
   "outputs": [],
   "source": [
    "%matplotlib widget\n",
    "from ipywidgets import interact, interactive, fixed, interact_manual\n",
    "import matplotlib.pyplot as plt\n",
    "import numpy as np\n",
    "import pandas as pd\n",
    "\n",
    "import modrec.radioml\n",
    "import modrec.training"
   ]
  },
  {
   "cell_type": "code",
   "execution_count": 2,
   "metadata": {},
   "outputs": [],
   "source": [
    "dataset_name = '2016.10a'\n",
    "seed = 2016\n",
    "models = ['vtcnn2', 'resnet18-outer', 'resnet18-gasf', 'resnet18-gadf']"
   ]
  },
  {
   "cell_type": "code",
   "execution_count": 3,
   "metadata": {},
   "outputs": [],
   "source": [
    "modrec.training.set_seed(seed)\n",
    "\n",
    "classes, data = modrec.radioml.load_numpy(os.path.join('../data', dataset_name + '.h5'))\n",
    "\n",
    "train, validate, test = modrec.training.split_training(data, 0.5, 0.5)"
   ]
  },
  {
   "cell_type": "code",
   "execution_count": 4,
   "metadata": {},
   "outputs": [],
   "source": [
    "df = pd.DataFrame()\n",
    "df['ms'] = validate['ms']\n",
    "df['snr'] = validate['snr']\n",
    "\n",
    "for model_name in models:\n",
    "    trainer = modrec.training.Trainer('../models', dataset_name, model_name, seed)\n",
    "\n",
    "    df['ms_' + model_name] = list(np.argmax(trainer.load_predictions(), axis=1))"
   ]
  },
  {
   "cell_type": "code",
   "execution_count": 5,
   "metadata": {},
   "outputs": [
    {
     "output_type": "display_data",
     "data": {
      "text/plain": "Canvas(toolbar=Toolbar(toolitems=[('Home', 'Reset original view', 'home', 'home'), ('Back', 'Back to previous …",
      "application/vnd.jupyter.widget-view+json": {
       "version_major": 2,
       "version_minor": 0,
       "model_id": "6c02881f71594027a1b4002a0c2c1a08"
      }
     },
     "metadata": {}
    },
    {
     "output_type": "display_data",
     "data": {
      "text/plain": "interactive(children=(IntSlider(value=9, description='i', max=19), Dropdown(description='model_name', options=…",
      "application/vnd.jupyter.widget-view+json": {
       "version_major": 2,
       "version_minor": 0,
       "model_id": "5c1f14dc6c3f452a81896afc7c788061"
      }
     },
     "metadata": {}
    },
    {
     "output_type": "execute_result",
     "data": {
      "text/plain": [
       "<function __main__.interactive_confusion_matrix.<locals>.f(i, model_name)>"
      ]
     },
     "metadata": {},
     "execution_count": 5
    }
   ],
   "source": [
    "def plot_confusion_matrix(fig, ax, cm, title='Confusion matrix', labels=[], grid=False, cmap=plt.cm.viridis):\n",
    "    # Assume colorbar was plotted last\n",
    "    if len(ax.images) > 0:\n",
    "        cb = ax.images[-1].colorbar   \n",
    "        cb.remove()\n",
    "\n",
    "    ax.clear()\n",
    "\n",
    "    image = ax.imshow(cm, interpolation='nearest', cmap=cmap, clim=(0,1))\n",
    "    cb = fig.colorbar(image)\n",
    "    \n",
    "    tick_marks = np.arange(len(labels))\n",
    "    if grid:\n",
    "        ax.grid(grid, color='w')\n",
    "    ax.set_xticks(tick_marks)\n",
    "    ax.set_xticklabels(labels, rotation=45)\n",
    "    ax.set_yticks(tick_marks)\n",
    "    ax.set_yticklabels(labels)\n",
    "\n",
    "    ax.set_ylabel('True label')\n",
    "    ax.set_xlabel('Predicted label')\n",
    "    ax.set_title(title)\n",
    "    \n",
    "    fig.tight_layout()\n",
    "\n",
    "def plot_confusion(fig, ax, df, model_name, snr=None):\n",
    "    if snr is not None:\n",
    "        plot_df = df[df.snr == snr]\n",
    "    else:\n",
    "        plot_df = df\n",
    "\n",
    "    confusion_matrix = pd.crosstab(plot_df.ms, plot_df['ms_' + model_name],\n",
    "                                   rownames=['actual'],\n",
    "                                   colnames=['predicted'])\n",
    "    correct = np.sum(np.diag(confusion_matrix.to_numpy()))\n",
    "    total = len(plot_df)\n",
    "    print(\"Accuracy: %g\" % (correct/total))\n",
    "\n",
    "    if snr is None:\n",
    "        title = None\n",
    "    else:\n",
    "        title = f\"Confusion Matrix (SNR={snr:g})\"\n",
    "\n",
    "    plot_confusion_matrix(fig, ax, confusion_matrix/confusion_matrix.sum(axis=1),\n",
    "                          title=title,\n",
    "                          labels=list(classes))\n",
    "\n",
    "def interactive_confusion_matrix():\n",
    "    fig, ax = plt.subplots()\n",
    "\n",
    "    snrs = sorted(df.snr.unique())\n",
    "\n",
    "    def f(i, model_name):\n",
    "        if len(ax.images) != 0:\n",
    "            cb = ax.images[-1].colorbar\n",
    "            cb.remove()\n",
    "\n",
    "        ax.clear()\n",
    "        \n",
    "        plot_confusion(fig, ax, df, model_name, snr=snrs[i])\n",
    "\n",
    "    return interact(f, i=(0,len(snrs)-1), model_name=models)\n",
    "\n",
    "interactive_confusion_matrix()"
   ]
  },
  {
   "cell_type": "code",
   "execution_count": 9,
   "metadata": {},
   "outputs": [
    {
     "output_type": "display_data",
     "data": {
      "text/plain": "Canvas(toolbar=Toolbar(toolitems=[('Home', 'Reset original view', 'home', 'home'), ('Back', 'Back to previous …",
      "application/vnd.jupyter.widget-view+json": {
       "version_major": 2,
       "version_minor": 0,
       "model_id": "a6e7d620464b4c6fa164222ad360b12b"
      }
     },
     "metadata": {}
    },
    {
     "output_type": "stream",
     "name": "stdout",
     "text": [
      "CNN2 Dropout 0.5 accuracy: 0.508036\nResNet18 (outer product) accuracy: 0.592291\nResNet18 (GASF) accuracy: 0.0904636\nResNet18 (GADF) accuracy: 0.588755\n"
     ]
    }
   ],
   "source": [
    "def compute_accuracy(df, model_name):\n",
    "    df['correct'] = df.ms == df['ms_' + model_name]\n",
    "    df_accuracy = df.groupby('snr')['correct'].aggregate(['count', 'sum'])\n",
    "    return (df.correct.sum()/df.correct.count(), df_accuracy['sum'] / df_accuracy['count'])\n",
    "\n",
    "LABELS = { 'vtcnn2': 'CNN2 Dropout 0.5'\n",
    "         , 'resnet18-outer': 'ResNet18 (outer product)'\n",
    "         , 'resnet18-gasf': 'ResNet18 (GASF)'\n",
    "         , 'resnet18-gadf': 'ResNet18 (GADF)'\n",
    "         }\n",
    "\n",
    "snrs = sorted(df.snr.unique())\n",
    "\n",
    "fig, ax = plt.subplots()\n",
    "\n",
    "fig.suptitle(\"Classification Accuracy on RadioML\" + dataset_name)\n",
    "\n",
    "for model_name in models:\n",
    "    accuracy, per_snr_accuracy = compute_accuracy(df, model_name)\n",
    "\n",
    "    ax.plot(snrs, per_snr_accuracy, marker='.', label=LABELS[model_name], linewidth=1)\n",
    "    ax.set_xlabel(\"Signal to Noise Ratio\")\n",
    "    ax.set_ylim(0,1)\n",
    "    ax.set_ylabel(\"Classification Accuracy\")\n",
    "    ax.legend()\n",
    "\n",
    "    print('%s accuracy: %g' % (LABELS[model_name], accuracy))"
   ]
  },
  {
   "cell_type": "code",
   "execution_count": null,
   "metadata": {},
   "outputs": [],
   "source": []
  }
 ]
}