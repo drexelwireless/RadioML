{
 "metadata": {
  "language_info": {
   "codemirror_mode": {
    "name": "ipython",
    "version": 3
   },
   "file_extension": ".py",
   "mimetype": "text/x-python",
   "name": "python",
   "nbconvert_exporter": "python",
   "pygments_lexer": "ipython3",
   "version": "3.8.5-final"
  },
  "orig_nbformat": 2,
  "kernelspec": {
   "name": "Python 3.8.5 64-bit ('venv')",
   "display_name": "Python 3.8.5 64-bit ('venv')",
   "metadata": {
    "interpreter": {
     "hash": "1ced818313e1bbfa6e7e616ac58b8b2a5e279445dc4af68384a0402dc8d78ace"
    }
   }
  }
 },
 "nbformat": 4,
 "nbformat_minor": 2,
 "cells": [
  {
   "cell_type": "code",
   "execution_count": null,
   "metadata": {},
   "outputs": [],
   "source": [
    "%matplotlib widget\n",
    "from ipywidgets import interact, interactive, fixed, interact_manual\n",
    "import matplotlib.pyplot as plt\n",
    "import numpy as np\n",
    "import pandas as pd\n",
    "\n",
    "import tensorflow as tf\n",
    "\n",
    "import modrec.radioml\n",
    "import modrec.preprocessing"
   ]
  },
  {
   "cell_type": "code",
   "execution_count": null,
   "metadata": {},
   "outputs": [],
   "source": [
    "classes, data = modrec.radioml.load_numpy('../data/2016.10a.h5')"
   ]
  },
  {
   "cell_type": "code",
   "execution_count": null,
   "metadata": {},
   "outputs": [],
   "source": [
    "import modrec.preprocessing\n",
    "\n",
    "def plot(fig, im_ax, psd_ax, iq, func='outer', title=None):\n",
    "    if func == 'outer':\n",
    "        im = modrec.preprocessing.preprocess_outer(iq)\n",
    "    elif func == 'gasf':\n",
    "        im = modrec.preprocessing.preprocess_gasf(iq)\n",
    "    else:\n",
    "        im = modrec.preprocessing.preprocess_gadf(iq)\n",
    "\n",
    "    im_ax.imshow(im)\n",
    "    psd_ax.psd(iq[0] + 1j*iq[1])\n",
    "    if title:\n",
    "        fig.suptitle(title)\n",
    "\n",
    "def iplot():\n",
    "    plot_data = data #[data['snr'] == 18]\n",
    "\n",
    "    fig, (im_ax, psd_ax) = plt.subplots(ncols=2, figsize=(8,4))\n",
    "\n",
    "    def f(i, func):\n",
    "        im_ax.clear()\n",
    "        psd_ax.clear()\n",
    "        title = f\"{classes[plot_data[i]['ms']]:} (SNR {plot_data[i]['snr']:})\"\n",
    "        plot(fig, im_ax, psd_ax, plot_data['iq_data'][i], func=func, title=title)\n",
    "\n",
    "    return interact(f, i=(0, len(plot_data) - 1), func=['outer', 'gasf', 'gadf'])\n",
    "\n",
    "iplot()"
   ]
  },
  {
   "cell_type": "code",
   "execution_count": null,
   "metadata": {},
   "outputs": [],
   "source": []
  }
 ]
}