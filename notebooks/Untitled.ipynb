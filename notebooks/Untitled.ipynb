{
 "cells": [
  {
   "cell_type": "code",
   "execution_count": 2,
   "metadata": {},
   "outputs": [
    {
     "name": "stdout",
     "output_type": "stream",
     "text": [
      "/home/arrowhead/RadioML\n",
      " 2016_rgb.ipynb\t\t\t    fisher_LDA.py\n",
      " 3Encodings_R50.ipynb\t\t    GPU_accelerated\n",
      " All_SNRs.ipynb\t\t\t    new_file.csv\n",
      " code_1.47.2-1594837870_amd64.deb   playground.py\n",
      " dataset_generation.py\t\t    req.txt\n",
      " DenseNet121.ipynb\t\t    RML2016.10a_dict.pkl\n",
      " encoded_generation.py\t\t    runs\n",
      "'Exploratory Data Analysis.ipynb'   sample.png\n",
      " Fisher\t\t\t\t    training_zone\n",
      " Fisher_LDA.ipynb\t\t    Untitled.ipynb\n"
     ]
    }
   ],
   "source": [
    "import numpy as np\n",
    "!pwd\n",
    "!ls"
   ]
  },
  {
   "cell_type": "code",
   "execution_count": 3,
   "metadata": {},
   "outputs": [
    {
     "name": "stdout",
     "output_type": "stream",
     "text": [
      "{-18: 39348, 22: 39293, -2: 39527, 6: 39254, -12: 39174, 30: 39370, 12: 39287, 0: 39396, 18: 39198, 26: 39368, -20: 39339, 28: 39405, -8: 39360, 24: 39328, -10: 39345, -6: 39156, 10: 39425, 16: 39171, -4: 39416, 4: 39310, 8: 39311, -14: 39125, -16: 39291, 2: 39487, 20: 39290, 14: 39387}\n"
     ]
    },
    {
     "ename": "TypeError",
     "evalue": "unhashable type: 'numpy.ndarray'",
     "output_type": "error",
     "traceback": [
      "\u001b[0;31m---------------------------------------------------------------------------\u001b[0m",
      "\u001b[0;31mTypeError\u001b[0m                                 Traceback (most recent call last)",
      "\u001b[0;32m<ipython-input-3-069cd899870b>\u001b[0m in \u001b[0;36m<module>\u001b[0;34m\u001b[0m\n\u001b[1;32m     12\u001b[0m \u001b[0mlabels\u001b[0m \u001b[0;34m=\u001b[0m \u001b[0mdict\u001b[0m\u001b[0;34m(\u001b[0m\u001b[0;34m)\u001b[0m\u001b[0;34m\u001b[0m\u001b[0;34m\u001b[0m\u001b[0m\n\u001b[1;32m     13\u001b[0m \u001b[0;32mfor\u001b[0m \u001b[0mi\u001b[0m \u001b[0;32min\u001b[0m \u001b[0mtr_labels\u001b[0m\u001b[0;34m:\u001b[0m\u001b[0;34m\u001b[0m\u001b[0;34m\u001b[0m\u001b[0m\n\u001b[0;32m---> 14\u001b[0;31m     \u001b[0;32mif\u001b[0m \u001b[0mi\u001b[0m \u001b[0;32min\u001b[0m \u001b[0mlabels\u001b[0m\u001b[0;34m:\u001b[0m\u001b[0;34m\u001b[0m\u001b[0;34m\u001b[0m\u001b[0m\n\u001b[0m\u001b[1;32m     15\u001b[0m         \u001b[0mlabels\u001b[0m\u001b[0;34m[\u001b[0m\u001b[0mi\u001b[0m\u001b[0;34m]\u001b[0m \u001b[0;34m+=\u001b[0m \u001b[0;36m1\u001b[0m\u001b[0;34m\u001b[0m\u001b[0;34m\u001b[0m\u001b[0m\n\u001b[1;32m     16\u001b[0m     \u001b[0;32melse\u001b[0m\u001b[0;34m:\u001b[0m\u001b[0;34m\u001b[0m\u001b[0;34m\u001b[0m\u001b[0m\n",
      "\u001b[0;31mTypeError\u001b[0m: unhashable type: 'numpy.ndarray'"
     ]
    }
   ],
   "source": [
    "tr_labels = np.load(\"/home/arrowhead/dataset_2018/train/labels.npy\")\n",
    "tr_signals = np.load(\"/home/arrowhead/dataset_2018/train/signals.npy\")\n",
    "tr_signals = tr_signals.reshape(1022361, 2, 1024)\n",
    "tr_snrs = np.load(\"/home/arrowhead/dataset_2018/train/snrs.npy\")\n",
    "test = dict()\n",
    "for i in tr_snrs:\n",
    "    if i in test:\n",
    "        test[i] += 1\n",
    "    else:\n",
    "        test[i] = 1\n",
    "print(test)\n",
    "labels = dict()\n",
    "for i in tr_labels:\n",
    "    if i in labels:\n",
    "        labels[i] += 1\n",
    "    else:\n",
    "        labels[i] = 1\n",
    "print(labels)"
   ]
  },
  {
   "cell_type": "code",
   "execution_count": 14,
   "metadata": {},
   "outputs": [
    {
     "data": {
      "text/plain": [
       "14"
      ]
     },
     "execution_count": 14,
     "metadata": {},
     "output_type": "execute_result"
    }
   ],
   "source": [
    "np.where(tr_labels[0]==1)[0][0]"
   ]
  },
  {
   "cell_type": "code",
   "execution_count": 21,
   "metadata": {},
   "outputs": [
    {
     "name": "stdout",
     "output_type": "stream",
     "text": [
      "[0 0 0 0 0 0 0 0 0 0 0 0 0 0 1 0 0 0 0 0 0 0 0 0]\n"
     ]
    },
    {
     "ename": "TypeError",
     "evalue": "a bytes-like object is required, not 'str'",
     "output_type": "error",
     "traceback": [
      "\u001b[0;31m---------------------------------------------------------------------------\u001b[0m",
      "\u001b[0;31mTypeError\u001b[0m                                 Traceback (most recent call last)",
      "\u001b[0;32m<ipython-input-21-8b3e7ba78d35>\u001b[0m in \u001b[0;36m<module>\u001b[0;34m\u001b[0m\n\u001b[1;32m     32\u001b[0m     \u001b[0mruleswriter\u001b[0m \u001b[0;34m=\u001b[0m \u001b[0mcsv\u001b[0m\u001b[0;34m.\u001b[0m\u001b[0mwriter\u001b[0m\u001b[0;34m(\u001b[0m\u001b[0mf\u001b[0m\u001b[0;34m)\u001b[0m\u001b[0;34m\u001b[0m\u001b[0;34m\u001b[0m\u001b[0m\n\u001b[1;32m     33\u001b[0m     \u001b[0;32mfor\u001b[0m \u001b[0mi\u001b[0m \u001b[0;32min\u001b[0m \u001b[0mall_labels\u001b[0m\u001b[0;34m:\u001b[0m\u001b[0;34m\u001b[0m\u001b[0;34m\u001b[0m\u001b[0m\n\u001b[0;32m---> 34\u001b[0;31m         \u001b[0mruleswriter\u001b[0m\u001b[0;34m.\u001b[0m\u001b[0mwriterows\u001b[0m\u001b[0;34m(\u001b[0m\u001b[0mi\u001b[0m\u001b[0;34m)\u001b[0m\u001b[0;34m\u001b[0m\u001b[0;34m\u001b[0m\u001b[0m\n\u001b[0m",
      "\u001b[0;31mTypeError\u001b[0m: a bytes-like object is required, not 'str'"
     ]
    }
   ],
   "source": [
    "\n",
    "\n"
   ]
  },
  {
   "cell_type": "code",
   "execution_count": 5,
   "metadata": {},
   "outputs": [
    {
     "name": "stdout",
     "output_type": "stream",
     "text": [
      "24\n",
      "[-20, -18, -16, -14, -12, -10, -8, -6, -4, -2, 0, 2, 4, 6, 8, 10, 12, 14, 16, 18, 20, 22, 24, 26, 28, 30]\n"
     ]
    }
   ],
   "source": [
    "\n",
    "\n",
    "\n",
    "\n",
    "\n",
    "classes = ['32PSK',\n",
    " '16APSK',\n",
    " '32QAM',\n",
    " 'FM',\n",
    " 'GMSK',\n",
    " '32APSK',\n",
    " 'OQPSK', #1\n",
    " '8ASK',\n",
    " 'BPSK',\n",
    " '8PSK',\n",
    " 'AM-SSB-SC',\n",
    " '4ASK',\n",
    " '16PSK',\n",
    " '64APSK',\n",
    " '128QAM',\n",
    " '128APSK',\n",
    " 'AM-DSB-SC', #2\n",
    " 'AM-SSB-WC',\n",
    " '64QAM',\n",
    " 'QPSK',\n",
    " '256QAM',\n",
    " 'AM-DSB-WC',\n",
    " 'OOK',\n",
    " '16QAM']\n",
    "print(len(classes))\n",
    "print(sorted(test.keys()))"
   ]
  },
  {
   "cell_type": "code",
   "execution_count": 4,
   "metadata": {},
   "outputs": [
    {
     "data": {
      "text/plain": [
       "(2, 1024)"
      ]
     },
     "execution_count": 4,
     "metadata": {},
     "output_type": "execute_result"
    }
   ],
   "source": [
    "# classes[np.where(tr_labels[0]==1)[0][0]]\n",
    "tr_signals.shape\n",
    "tr_signals[0].shape"
   ]
  },
  {
   "cell_type": "code",
   "execution_count": 18,
   "metadata": {},
   "outputs": [
    {
     "name": "stdout",
     "output_type": "stream",
     "text": [
      "-0.6489432\n",
      "________________\n",
      "-0.13305102\n"
     ]
    }
   ],
   "source": [
    "tr_signals_trans = tr_signals.transpose()\n",
    "tr_signals_trans.shape\n",
    "tr_signals_trans[0].shape\n",
    "I, Q = map(list, zip(*tr_signals_trans[0]))\n",
    "print(I[0])\n",
    "print(\"________________\")\n",
    "print(Q[1])"
   ]
  },
  {
   "cell_type": "code",
   "execution_count": 34,
   "metadata": {},
   "outputs": [
    {
     "data": {
      "text/plain": [
       "1024"
      ]
     },
     "execution_count": 34,
     "metadata": {},
     "output_type": "execute_result"
    }
   ],
   "source": [
    "array = tr_signals[0].transpose()\n",
    "# array.reshape(-1,1)\n",
    "len(array[0])\n"
   ]
  },
  {
   "cell_type": "code",
   "execution_count": 5,
   "metadata": {},
   "outputs": [
    {
     "name": "stderr",
     "output_type": "stream",
     "text": [
      "/home/arrowhead/anaconda3/envs/fastai/lib/python3.6/site-packages/pyts/image/image.py:321: FutureWarning: Using a non-tuple sequence for multidimensional indexing is deprecated; use `arr[tuple(seq)]` instead of `arr[seq]`. In the future this will be interpreted as an array index, `arr[np.array(seq)]`, which will result either in an error or a different result.\n",
      "  MTF[np.meshgrid(list_values[i], list_values[j])] = MTM[i, j]\n"
     ]
    },
    {
     "name": "stdout",
     "output_type": "stream",
     "text": [
      "0.8956825733184814\n"
     ]
    }
   ],
   "source": [
    "import time \n",
    "start_time  = time.time()\n",
    "\n",
    "from pyts.approximation import PAA\n",
    "from pyts.image import GADF, MTF, RecurrencePlots, GASF\n",
    "from sklearn.preprocessing import MinMaxScaler\n",
    "import matplotlib.pyplot as plt\n",
    "plt.ioff()\n",
    "%matplotlib notebook\n",
    "j = 100000\n",
    "array = tr_signals[j]\n",
    "X = tr_signals\n",
    "IMG_SIZE = 1024\n",
    "encoder1 = GASF(IMG_SIZE)\n",
    "encoder2 = MTF(IMG_SIZE, n_bins=IMG_SIZE//10, quantiles='gaussian')\n",
    "encoder3 = GADF(IMG_SIZE)\n",
    "Amp = np.sqrt(np.add(np.square(X[j][0]), np.square([X[j][1]])))/2\n",
    "\n",
    "r = encoder1.fit_transform(array)\n",
    "g = encoder2.fit_transform(array)\n",
    "b = encoder3.fit_transform(Amp)\n",
    "shape = r.shape\n",
    "rgbArray = np.zeros((IMG_SIZE, IMG_SIZE, 3), 'uint8')\n",
    "rgbArray[..., 0] = r.reshape(shape)[1, :] * 256\n",
    "rgbArray[..., 1] = g.reshape(shape)[0, :] * 256\n",
    "rgbArray[..., 2] = b * 256\n",
    "plt.imsave(\"/media/arrowhead/WD2/sample.png\", rgbArray)\n",
    "print((time.time() - start_time))"
   ]
  },
  {
   "cell_type": "code",
   "execution_count": null,
   "metadata": {},
   "outputs": [],
   "source": []
  }
 ],
 "metadata": {
  "kernelspec": {
   "display_name": "fastai",
   "language": "python",
   "name": "fastai_v1"
  },
  "language_info": {
   "codemirror_mode": {
    "name": "ipython",
    "version": 3
   },
   "file_extension": ".py",
   "mimetype": "text/x-python",
   "name": "python",
   "nbconvert_exporter": "python",
   "pygments_lexer": "ipython3",
   "version": "3.6.10"
  }
 },
 "nbformat": 4,
 "nbformat_minor": 4
}
